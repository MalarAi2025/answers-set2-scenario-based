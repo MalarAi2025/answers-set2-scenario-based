{
 "cells": [
  {
   "cell_type": "code",
   "execution_count": 2,
   "id": "f25d482e-df67-4adf-a2b3-7bf538045d70",
   "metadata": {},
   "outputs": [],
   "source": [
    "#Write a Python program to find the reverse of a string. Expected Output (for input \"hello\"):\n",
    "#olleh\n",
    "\n",
    "\n",
    "s=str(\"hello\")\n",
    "def reverse(s):\n",
    "    return s[::-1]\n",
    "    print (reverse (\"hello\"))\n",
    "    \n",
    "\n"
   ]
  },
  {
   "cell_type": "code",
   "execution_count": 3,
   "id": "4ba11f47-1f8f-4de5-8263-7ffd630bdb73",
   "metadata": {},
   "outputs": [
    {
     "data": {
      "text/plain": [
       "'olleh'"
      ]
     },
     "execution_count": 3,
     "metadata": {},
     "output_type": "execute_result"
    }
   ],
   "source": [
    "reverse(s)\n"
   ]
  },
  {
   "cell_type": "code",
   "execution_count": 32,
   "id": "4937bfef-993e-45bc-bd90-8939c82c47c6",
   "metadata": {},
   "outputs": [
    {
     "name": "stdout",
     "output_type": "stream",
     "text": [
      "It is a Palindrome\n"
     ]
    }
   ],
   "source": [
    "#3.Write a Python function to check if a given string is a palindrome.\n",
    "#Expected Output (for input \"madam\"):\n",
    "#madam is a palindrome\n",
    "s=\"madam\"\n",
    "reverse_string=s[::-1]\n",
    "s==reverse_string\n",
    "if (s==reverse_string):\n",
    "   print(\"It is a Palindrome\")\n",
    "else:\n",
    "  print(\"Not a Palindrome\")"
   ]
  },
  {
   "cell_type": "code",
   "execution_count": 2,
   "id": "a4bc77a4-41a4-40f3-93d1-8f5d9de514dd",
   "metadata": {},
   "outputs": [],
   "source": [
    "#2.Write a Python program to generate the Fibonacci sequence up to 10 terms.\n",
    "#Expected Output:0 1 1 2 3 5 8 13 21 34\n",
    "#Answer:\n",
    "def fibonacci(n):\n",
    "    sequence = [0, 1]\n",
    "    for i in range(2, n):\n",
    "        sequence.append(sequence[-1] + sequence[-2])\n",
    "    return sequence\n"
   ]
  },
  {
   "cell_type": "code",
   "execution_count": 3,
   "id": "f69c5353-ba06-4703-8629-d825aa7caa53",
   "metadata": {},
   "outputs": [
    {
     "data": {
      "text/plain": [
       "[0, 1, 1, 2, 3, 5, 8, 13, 21, 34]"
      ]
     },
     "execution_count": 3,
     "metadata": {},
     "output_type": "execute_result"
    }
   ],
   "source": [
    "fibonacci(10)"
   ]
  },
  {
   "cell_type": "code",
   "execution_count": 1,
   "id": "0e1d0eba-9573-4d88-b379-b0ecec4fda3d",
   "metadata": {},
   "outputs": [
    {
     "name": "stdout",
     "output_type": "stream",
     "text": [
      "Number of vowels: 5\n"
     ]
    }
   ],
   "source": [
    "\n",
    "\n",
    "#4.Write a Python program to count the number of vowels in a given string. \n",
    "#Expected Output (for input \"education\"):\n",
    "\n",
    "#Number of vowels: 5\n",
    "    \n",
    "\n",
    "def count_vowels(s):\n",
    "    vowels = \"aeiouAEIOU\"\n",
    "    return sum(1 for char in s if char in vowels)\n",
    "\n",
    "print(\"Number of vowels:\", count_vowels(\"education\"))"
   ]
  },
  {
   "cell_type": "code",
   "execution_count": 2,
   "id": "4fd2f351-d5e5-458c-b423-1da6b8f78613",
   "metadata": {},
   "outputs": [
    {
     "name": "stdout",
     "output_type": "stream",
     "text": [
      "madam is a palindrome\n"
     ]
    }
   ],
   "source": [
    "\n",
    "#3.Write a Python function to check if a given string is a palindrome.\n",
    "#Expected Output (for input \"madam\"):\n",
    "#madam is a palindrome\n",
    "\n",
    "\n",
    "def is_palindrome(s):\n",
    "    return s == s[::-1]\n",
    "\n",
    "word = \"madam\"\n",
    "if is_palindrome(word):\n",
    "    print(f\"{word} is a palindrome\")\n",
    "else:\n",
    "    print(f\"{word} is not a palindrome\")\n"
   ]
  },
  {
   "cell_type": "code",
   "execution_count": 4,
   "id": "4b5f4d29-ac51-4ea9-865e-640ff15d6a33",
   "metadata": {},
   "outputs": [
    {
     "name": "stdout",
     "output_type": "stream",
     "text": [
      "[1, 2, 3, 4, 5]\n"
     ]
    }
   ],
   "source": [
    "#5.Write a Python program to remove duplicates from a list.\n",
    "## [1, 2, 3, 4, 5]\n",
    "\n",
    " \n",
    "\n",
    "def remove_duplicates(lst):\n",
    "    return list(set(lst))\n",
    "\n",
    "print(remove_duplicates([1, 2, 2, 3, 4, 4, 5]))"
   ]
  },
  {
   "cell_type": "code",
   "execution_count": null,
   "id": "f093ca60-6b9a-4859-9a70-ff2f81145486",
   "metadata": {},
   "outputs": [],
   "source": []
  }
 ],
 "metadata": {
  "kernelspec": {
   "display_name": "Python 3 (ipykernel)",
   "language": "python",
   "name": "python3"
  },
  "language_info": {
   "codemirror_mode": {
    "name": "ipython",
    "version": 3
   },
   "file_extension": ".py",
   "mimetype": "text/x-python",
   "name": "python",
   "nbconvert_exporter": "python",
   "pygments_lexer": "ipython3",
   "version": "3.12.7"
  }
 },
 "nbformat": 4,
 "nbformat_minor": 5
}
