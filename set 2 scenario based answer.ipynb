{
 "cells": [
  {
   "cell_type": "code",
   "execution_count": null,
   "id": "864be20d-c4b3-42eb-b303-a6ec27467702",
   "metadata": {},
   "outputs": [],
   "source": [
    "#1.you are developing a banking application that categorises transactions based on the amount entered.\n",
    "#Write liogic to determine twhether the amount is positive,negative,zero\n",
    "def transactions():\n",
    "    amount=input(int( ))\n",
    "    if amount > 0:\n",
    "    print (\"positive\",\"Deposit\")\n",
    "    elif amount<0:\n",
    "    print(\"negative\",\"Withdrawal\")\n",
    "else:\n",
    "    print(\"Zero\",\"No transaction\")\n",
    "    "
   ]
  },
  {
   "cell_type": "code",
   "execution_count": null,
   "id": "0616487e-f0f7-408c-8c1c-aeadcbfa2e24",
   "metadata": {},
   "outputs": [],
   "source": [
    "#2.A digital locker requires users to enter a numerical passcode.\n",
    "#As part of a security feature the system check the sum of the digit of the passcode\n",
    "#write logic to compute the sum of hte digits of a given number\n",
    "num=()\n",
    "num=+str()\n",
    "print(sum(str(num)))\n",
    "\n",
    "  Take away point:only if u convert a digit into string each number in the digit can be seperated and hence added \n",
    "\n"
   ]
  },
  {
   "cell_type": "code",
   "execution_count": null,
   "id": "662bfd87-99e6-4290-9df6-9900f1f43c35",
   "metadata": {},
   "outputs": [],
   "source": [
    "#3.A mobile payment app uses a simple checksum validation \n",
    "#wherereversing a tranaction ID help detect fraud\n",
    "#Write logic to take a number and return its reverse\n",
    "def transaction _id():\n",
    "num=str(num)\n",
    "reverse_num=num[::-1]\n"
   ]
  },
  {
   "cell_type": "code",
   "execution_count": 37,
   "id": "9dae3c7f-b091-4f95-bcc6-c4da0a32bcba",
   "metadata": {},
   "outputs": [],
   "source": [
    "#4.In a secure login system certain features are enabled only for users with prime numbered user id.\n",
    "#Write logic to check if thegiven number is prime\n",
    "def transaction_id():\n",
    "    num=12\n",
    "    if num<2:\n",
    "        return false\n",
    "        for i in range (2,num+1):\n",
    "            if (num%i==0):\n",
    "                return false\n",
    "            else:\n",
    "                print (\"prime number\")\n",
    "    \n"
   ]
  },
  {
   "cell_type": "code",
   "execution_count": 40,
   "id": "b91bc732-cd21-4a2f-822a-f19a4b13c63e",
   "metadata": {},
   "outputs": [],
   "source": [
    " transaction_id()"
   ]
  },
  {
   "cell_type": "code",
   "execution_count": 2,
   "id": "0461c6b6-91a8-48c6-8cbf-07eae2ebbb41",
   "metadata": {},
   "outputs": [
    {
     "name": "stdout",
     "output_type": "stream",
     "text": [
      "0 \n",
      "00 \n",
      "100 \n",
      "1100 \n"
     ]
    }
   ],
   "source": [
    "#5.A low level netoworking application requires decimal numbers to be converted into binary formatbefore transmission.\n",
    "#write logic to convert a given decimal number into its binary equivalent.\n",
    "#●\tRead the input decimal number.\n",
    "#●\tInitialize an empty string for binary representation.\n",
    "#●\tWhile the number is greater than 0:\n",
    "# Divide the number by 2 and store the remainder.\n",
    "#○\tAdd the remainder to the binary string.\n",
    "#○\tUpdate the number by dividing it by 2.\n",
    "#●\tReverse the binary string.\n",
    "#●\tPrint the binary representation.\n",
    "n=12\n",
    "binary=\" \"\n",
    "while n>0:\n",
    "  rem=n%2\n",
    "  n=n//2\n",
    "  binary=str(rem)+binary\n",
    "  print (binary)\n",
    "#while loop allows this  fuction to perform till n>0 \n",
    "#rem = 12%2\n",
    "0=12%2\n",
    "then it will perform \n",
    "n=n//2\n",
    "6=12//2\n",
    "binary=str(rem)+\"binary\"\n",
    "       =\"0\"+\"0\"\n",
    "\n"
   ]
  },
  {
   "cell_type": "code",
   "execution_count": 4,
   "id": "61ced7da-bd13-45b5-a376-da2d76e1bf79",
   "metadata": {},
   "outputs": [
    {
     "name": "stdout",
     "output_type": "stream",
     "text": [
      "['I', 'like', 'Apple']\n",
      "Longest word is Apple\n"
     ]
    }
   ],
   "source": [
    "#6.aA text processing tool helps summarise articles by identifying the most significant words.\n",
    "#write logic to find the longest word in a sentence.\n",
    "sentence=\"I like Apple\"\n",
    "word=sentence.split()\n",
    "print(word)\n",
    "longest_word=max(word,key=len)\n",
    "print(\"Longest word is\", longest_word)\n",
    "\n"
   ]
  },
  {
   "cell_type": "code",
   "execution_count": 10,
   "id": "038b7116-882e-48b7-b29c-221c1c285b6c",
   "metadata": {},
   "outputs": [],
   "source": [
    "#7.A plagiarism detection tool compares words from different documents and checks if they are anagrams(same charecters but different order}\n",
    "#write logic to check whether the given strings are anagrams\n",
    "def anagram ():\n",
    "    word1=\"live\"\n",
    "    \n",
    "    word2=\"evil\"\n",
    "    \n",
    "    word1_sort=sorted(word1)\n",
    "    word2_sort=sorted(word2)\n",
    "\n",
    "    \n",
    "    if word1_sort==word2_sort:\n",
    "        print (\"anagram\")\n",
    "    else:\n",
    "        print(\"not anagram\")\n",
    "    \n"
   ]
  },
  {
   "cell_type": "code",
   "execution_count": 11,
   "id": "6d7a345b-1cc3-424b-aea5-77e0861cf719",
   "metadata": {},
   "outputs": [
    {
     "name": "stdout",
     "output_type": "stream",
     "text": [
      "anagram\n"
     ]
    }
   ],
   "source": [
    "anagram()\n"
   ]
  },
  {
   "cell_type": "code",
   "execution_count": null,
   "id": "8bb7d127-a9ca-485a-b09e-391879ee8ab0",
   "metadata": {},
   "outputs": [],
   "source": []
  }
 ],
 "metadata": {
  "kernelspec": {
   "display_name": "Python 3 (ipykernel)",
   "language": "python",
   "name": "python3"
  },
  "language_info": {
   "codemirror_mode": {
    "name": "ipython",
    "version": 3
   },
   "file_extension": ".py",
   "mimetype": "text/x-python",
   "name": "python",
   "nbconvert_exporter": "python",
   "pygments_lexer": "ipython3",
   "version": "3.12.7"
  }
 },
 "nbformat": 4,
 "nbformat_minor": 5
}
